{
 "cells": [
  {
   "cell_type": "markdown",
   "metadata": {},
   "source": [
    "# Telegram Tutorial\n",
    "\n",
    "Following are code snippets on how connect and listen to telegram bot"
   ]
  },
  {
   "cell_type": "markdown",
   "metadata": {},
   "source": [
    "** Enviroment **\n",
    "\n",
    "Language : Python 3.5"
   ]
  },
  {
   "cell_type": "markdown",
   "metadata": {},
   "source": [
    "** Creating bot - Tutorial**\n",
    "\n",
    "My code is based on following tutorial. Refer it for more details :)\n",
    "\n",
    "https://www.codementor.io/garethdwyer/building-a-telegram-bot-using-python-part-1-goi5fncay\n",
    "\n",
    "Note:\n",
    "- Make sure token is kept secret"
   ]
  },
  {
   "cell_type": "code",
   "execution_count": 1,
   "metadata": {
    "collapsed": true
   },
   "outputs": [],
   "source": [
    "#libraries\n",
    "\n",
    "import time\n",
    "import json \n",
    "import requests\n",
    "import urllib"
   ]
  },
  {
   "cell_type": "code",
   "execution_count": 2,
   "metadata": {
    "collapsed": true
   },
   "outputs": [],
   "source": [
    "#telegram bot token\n",
    "TOKEN = \"your_token\"\n",
    "URL = \"https://api.telegram.org/bot{}/\".format(TOKEN)"
   ]
  },
  {
   "cell_type": "code",
   "execution_count": 5,
   "metadata": {
    "collapsed": true
   },
   "outputs": [],
   "source": [
    "#define functions\n",
    "\n",
    "def get_url(url):\n",
    "    \"\"\"\n",
    "    Get content from the url\n",
    "    \"\"\"\n",
    "    response = requests.get(url)\n",
    "    content = response.content.decode(\"utf8\")\n",
    "    return content\n",
    "\n",
    "\n",
    "def get_json_from_url(url):\n",
    "    \"\"\"\n",
    "    Get content and convert to json\n",
    "    \"\"\"\n",
    "    content = get_url(url)\n",
    "    js = json.loads(content)\n",
    "    return js\n",
    "\n",
    "\n",
    "def get_updates(offset=None):\n",
    "    \"\"\"\n",
    "    If any updates, listen and get the content\n",
    "    \"\"\"\n",
    "    url = URL + \"getUpdates?timeout=100\"\n",
    "    if offset:\n",
    "        url += \"&offset={}\".format(offset)\n",
    "    js = get_json_from_url(url)\n",
    "    return js\n",
    "\n",
    "def get_last_update_id(updates):\n",
    "    \"\"\"\n",
    "    Get last update id of the bot. Else, get_updates without id, will retrieve\n",
    "    all the messages\n",
    "    \"\"\"\n",
    "    update_ids = []\n",
    "    for update in updates[\"result\"]:\n",
    "        update_ids.append(int(update[\"update_id\"]))\n",
    "    return max(update_ids)\n",
    "\n",
    "def send_message(text, chat_id):\n",
    "    \n",
    "    \"\"\"\n",
    "    Sent message to bot\n",
    "    \"\"\"\n",
    "    \n",
    "    text = urllib.parse.quote_plus(text)\n",
    "    url = URL + \"sendMessage?text={}&chat_id={}\".format(text, chat_id)\n",
    "    get_url(url)\n",
    "    \n",
    "def echo_all(updates):\n",
    "    \"\"\"\n",
    "    Send same text as input.\n",
    "    \n",
    "    This logic can be changed based on applicatin\n",
    "    Example: Logic of bot brain\n",
    "    \"\"\"\n",
    "    \n",
    "    for update in updates[\"result\"]:\n",
    "        try:\n",
    "            text = update[\"message\"][\"text\"]\n",
    "            chat_id = update[\"message\"][\"chat\"][\"id\"]\n",
    "            send_message(text, chat_id)\n",
    "        except Exception as e:\n",
    "            print(e)"
   ]
  },
  {
   "cell_type": "code",
   "execution_count": 6,
   "metadata": {
    "collapsed": false
   },
   "outputs": [],
   "source": [
    "#Start bot and listen\n",
    "\n",
    "def main():\n",
    "    \"\"\"\n",
    "    Function to start the bot and listen\n",
    "    \n",
    "    Following logic is implement,\n",
    "    Keep listen to our bot every 0.5 sec with a timeout(to optimize bot).\n",
    "    Once new message, echo the message and update id to get only new message\n",
    "    next time.\n",
    "    \"\"\"\n",
    "    \n",
    "    last_update_id = None\n",
    "    while True:\n",
    "        try:\n",
    "            updates = get_updates(last_update_id)\n",
    "            print(\"getting updates\")\n",
    "            if len(updates[\"result\"]) > 0:\n",
    "                last_update_id = get_last_update_id(updates) + 1\n",
    "                echo_all(updates)\n",
    "            time.sleep(0.5)\n",
    "        except(KeyboardInterrupt, EOFError, SystemExit):\n",
    "            break"
   ]
  },
  {
   "cell_type": "code",
   "execution_count": null,
   "metadata": {
    "collapsed": false,
    "scrolled": true
   },
   "outputs": [
    {
     "name": "stdout",
     "output_type": "stream",
     "text": [
      "getting updates\n",
      "getting updates\n",
      "getting updates\n"
     ]
    }
   ],
   "source": [
    "main()"
   ]
  },
  {
   "cell_type": "code",
   "execution_count": null,
   "metadata": {
    "collapsed": true
   },
   "outputs": [],
   "source": []
  }
 ],
 "metadata": {
  "anaconda-cloud": {},
  "kernelspec": {
   "display_name": "Python [conda root]",
   "language": "python",
   "name": "conda-root-py"
  },
  "language_info": {
   "codemirror_mode": {
    "name": "ipython",
    "version": 3
   },
   "file_extension": ".py",
   "mimetype": "text/x-python",
   "name": "python",
   "nbconvert_exporter": "python",
   "pygments_lexer": "ipython3",
   "version": "3.5.2"
  }
 },
 "nbformat": 4,
 "nbformat_minor": 1
}
